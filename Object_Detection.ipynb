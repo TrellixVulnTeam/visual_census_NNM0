{
  "nbformat": 4,
  "nbformat_minor": 0,
  "metadata": {
    "accelerator": "GPU",
    "colab": {
      "name": "Object_Detection",
      "provenance": [],
      "private_outputs": true,
      "collapsed_sections": [
        "N6ZDpd9XzFeN",
        "v4XGxDrCkeip",
        "vlA3CftFpRiW",
        "D19UCu9Q2-_8",
        "kyF1PeJzb1EF",
        "DbbkLm7tcGe9"
      ],
      "include_colab_link": true
    },
    "kernelspec": {
      "name": "python3",
      "display_name": "Python 3"
    }
  },
  "cells": [
    {
      "cell_type": "markdown",
      "metadata": {
        "id": "view-in-github",
        "colab_type": "text"
      },
      "source": [
        "<a href=\"https://colab.research.google.com/github/kittyschulz/visual_census/blob/master/Object_Detection.ipynb\" target=\"_parent\"><img src=\"https://colab.research.google.com/assets/colab-badge.svg\" alt=\"Open In Colab\"/></a>"
      ]
    },
    {
      "cell_type": "markdown",
      "metadata": {
        "colab_type": "text",
        "id": "N6ZDpd9XzFeN"
      },
      "source": [
        "##### Copyright 2018 The TensorFlow Hub Authors.\n",
        "\n",
        "Licensed under the Apache License, Version 2.0 (the \"License\");"
      ]
    },
    {
      "cell_type": "code",
      "metadata": {
        "cellView": "both",
        "colab_type": "code",
        "id": "KUu4vOt5zI9d",
        "colab": {}
      },
      "source": [
        "# Copyright 2018 The TensorFlow Hub Authors. All Rights Reserved.\n",
        "#\n",
        "# Licensed under the Apache License, Version 2.0 (the \"License\");\n",
        "# you may not use this file except in compliance with the License.\n",
        "# You may obtain a copy of the License at\n",
        "#\n",
        "#     http://www.apache.org/licenses/LICENSE-2.0\n",
        "#\n",
        "# Unless required by applicable law or agreed to in writing, software\n",
        "# distributed under the License is distributed on an \"AS IS\" BASIS,\n",
        "# WITHOUT WARRANTIES OR CONDITIONS OF ANY KIND, either express or implied.\n",
        "# See the License for the specific language governing permissions and\n",
        "# limitations under the License.\n",
        "# =============================================================================="
      ],
      "execution_count": 0,
      "outputs": []
    },
    {
      "cell_type": "markdown",
      "metadata": {
        "colab_type": "text",
        "id": "CxmDMK4yupqg"
      },
      "source": [
        "# Object detection\n"
      ]
    },
    {
      "cell_type": "markdown",
      "metadata": {
        "colab_type": "text",
        "id": "Sy553YSVmYiK"
      },
      "source": [
        "This Colab demonstrates use of a TF-Hub module trained to perform object detection."
      ]
    },
    {
      "cell_type": "markdown",
      "metadata": {
        "colab_type": "text",
        "id": "v4XGxDrCkeip"
      },
      "source": [
        "### Imports and function definitions\n"
      ]
    },
    {
      "cell_type": "code",
      "metadata": {
        "cellView": "form",
        "colab_type": "code",
        "id": "6cPY9Ou4sWs_",
        "colab": {}
      },
      "source": [
        "#@title Imports and function definitions\n",
        "\n",
        "# Currently %tensorflow_version 2.x installs beta1, which doesn't work here.\n",
        "# %tensorflow_version can likely be used after 2.0rc0  \n",
        "!pip install tf-nightly-gpu-2.0-preview\n",
        "\n",
        "# For running inference on the TF-Hub module.\n",
        "import tensorflow as tf\n",
        "\n",
        "import tensorflow_hub as hub\n",
        "\n",
        "# For downloading the image.\n",
        "import matplotlib.pyplot as plt\n",
        "import tempfile\n",
        "from six.moves.urllib.request import urlopen\n",
        "from six import BytesIO\n",
        "\n",
        "# For drawing onto the image.\n",
        "import numpy as np\n",
        "from PIL import Image\n",
        "from PIL import ImageColor\n",
        "from PIL import ImageDraw\n",
        "from PIL import ImageFont\n",
        "from PIL import ImageOps\n",
        "\n",
        "# For measuring the inference time.\n",
        "import time\n",
        "\n",
        "# Check available GPU devices.\n",
        "print(\"The following GPU devices are available: %s\" % tf.test.gpu_device_name())"
      ],
      "execution_count": 0,
      "outputs": []
    },
    {
      "cell_type": "markdown",
      "metadata": {
        "colab_type": "text",
        "id": "vlA3CftFpRiW"
      },
      "source": [
        "### Helper functions for downloading images and for visualization.\n",
        "\n",
        "Visualization code adapted from [TF object detection API](https://github.com/tensorflow/models/blob/master/research/object_detection/utils/visualization_utils.py) for the simplest required functionality."
      ]
    },
    {
      "cell_type": "code",
      "metadata": {
        "colab_type": "code",
        "id": "D9IwDpOtpIHW",
        "colab": {}
      },
      "source": [
        "def display_image(image):\n",
        "  fig = plt.figure(figsize=(20, 15))\n",
        "  plt.grid(False)\n",
        "  plt.imshow(image)\n",
        "\n",
        "\n",
        "def download_and_resize_image(url, new_width=256, new_height=256,\n",
        "                              display=False):\n",
        "  _, filename = tempfile.mkstemp(suffix=\".jpg\")\n",
        "  response = urlopen(url)\n",
        "  image_data = response.read()\n",
        "  image_data = BytesIO(image_data)\n",
        "  pil_image = Image.open(image_data)\n",
        "  pil_image = ImageOps.fit(pil_image, (new_width, new_height), Image.ANTIALIAS)\n",
        "  pil_image_rgb = pil_image.convert(\"RGB\")\n",
        "  pil_image_rgb.save(filename, format=\"JPEG\", quality=90)\n",
        "  print(\"Image downloaded to %s.\" % filename)\n",
        "  if display:\n",
        "    display_image(pil_image)\n",
        "  return filename\n",
        "\n",
        "\n",
        "def draw_bounding_box_on_image(image,\n",
        "                               ymin,\n",
        "                               xmin,\n",
        "                               ymax,\n",
        "                               xmax,\n",
        "                               color,\n",
        "                               font,\n",
        "                               thickness=4,\n",
        "                               display_str_list=()):\n",
        "  \"\"\"Adds a bounding box to an image.\"\"\"\n",
        "  draw = ImageDraw.Draw(image)\n",
        "  im_width, im_height = image.size\n",
        "  (left, right, top, bottom) = (xmin * im_width, xmax * im_width,\n",
        "                                ymin * im_height, ymax * im_height)\n",
        "  draw.line([(left, top), (left, bottom), (right, bottom), (right, top),\n",
        "             (left, top)],\n",
        "            width=thickness,\n",
        "            fill=color)\n",
        "\n",
        "  # If the total height of the display strings added to the top of the bounding\n",
        "  # box exceeds the top of the image, stack the strings below the bounding box\n",
        "  # instead of above.\n",
        "  display_str_heights = [font.getsize(ds)[1] for ds in display_str_list]\n",
        "  # Each display_str has a top and bottom margin of 0.05x.\n",
        "  total_display_str_height = (1 + 2 * 0.05) * sum(display_str_heights)\n",
        "\n",
        "  if top > total_display_str_height:\n",
        "    text_bottom = top\n",
        "  else:\n",
        "    text_bottom = bottom + total_display_str_height\n",
        "  # Reverse list and print from bottom to top.\n",
        "  for display_str in display_str_list[::-1]:\n",
        "    text_width, text_height = font.getsize(display_str)\n",
        "    margin = np.ceil(0.05 * text_height)\n",
        "    draw.rectangle([(left, text_bottom - text_height - 2 * margin),\n",
        "                    (left + text_width, text_bottom)],\n",
        "                   fill=color)\n",
        "    draw.text((left + margin, text_bottom - text_height - margin),\n",
        "              display_str,\n",
        "              fill=\"black\",\n",
        "              font=font)\n",
        "    text_bottom -= text_height - 2 * margin\n",
        "\n",
        "\n",
        "def draw_boxes(image, boxes, class_names, scores, max_boxes=10, min_score=0.1):\n",
        "  \"\"\"Overlay labeled boxes on an image with formatted scores and label names.\"\"\"\n",
        "  colors = list(ImageColor.colormap.values())\n",
        "\n",
        "  try:\n",
        "    font = ImageFont.truetype(\"/usr/share/fonts/truetype/liberation/LiberationSansNarrow-Regular.ttf\",\n",
        "                              25)\n",
        "  except IOError:\n",
        "    print(\"Font not found, using default font.\")\n",
        "    font = ImageFont.load_default()\n",
        "\n",
        "  for i in range(min(boxes.shape[0], max_boxes)):\n",
        "    if scores[i] >= min_score:\n",
        "      ymin, xmin, ymax, xmax = tuple(boxes[i])\n",
        "      display_str = \"{}: {}%\".format(class_names[i].decode(\"ascii\"),\n",
        "                                     int(100 * scores[i]))\n",
        "      color = colors[hash(class_names[i]) % len(colors)]\n",
        "      image_pil = Image.fromarray(np.uint8(image)).convert(\"RGB\")\n",
        "      draw_bounding_box_on_image(\n",
        "          image_pil,\n",
        "          ymin,\n",
        "          xmin,\n",
        "          ymax,\n",
        "          xmax,\n",
        "          color,\n",
        "          font,\n",
        "          display_str_list=[display_str])\n",
        "      np.copyto(image, np.array(image_pil))\n",
        "  return image"
      ],
      "execution_count": 0,
      "outputs": []
    },
    {
      "cell_type": "markdown",
      "metadata": {
        "colab_type": "text",
        "id": "D19UCu9Q2-_8"
      },
      "source": [
        "### Functions"
      ]
    },
    {
      "cell_type": "markdown",
      "metadata": {
        "colab_type": "text",
        "id": "t-VdfLbC1w51"
      },
      "source": [
        "Pick an object detection module and apply on the downloaded image. Modules:\n",
        "* **FasterRCNN+InceptionResNet V2**: high accuracy,\n",
        "* **ssd+mobilenet V2**: small and fast."
      ]
    },
    {
      "cell_type": "code",
      "metadata": {
        "colab_type": "code",
        "id": "uazJ5ASc2_QE",
        "colab": {}
      },
      "source": [
        "module_handle = \"https://tfhub.dev/google/faster_rcnn/openimages_v4/inception_resnet_v2/1\" #@param [\"https://tfhub.dev/google/openimages_v4/ssd/mobilenet_v2/1\", \"https://tfhub.dev/google/faster_rcnn/openimages_v4/inception_resnet_v2/1\"]\n",
        "\n",
        "detector = hub.load(module_handle).signatures['default']"
      ],
      "execution_count": 0,
      "outputs": []
    },
    {
      "cell_type": "code",
      "metadata": {
        "colab_type": "code",
        "id": "znW8Fq1EC0x7",
        "colab": {}
      },
      "source": [
        "def load_img(path):\n",
        "  \"\"\"loads and decodes image using tf\"\"\"\n",
        "  img = tf.io.read_file(path)\n",
        "  img = tf.image.decode_jpeg(img, channels=3)\n",
        "  return img"
      ],
      "execution_count": 0,
      "outputs": []
    },
    {
      "cell_type": "code",
      "metadata": {
        "id": "vRgFdc6DqwFp",
        "colab_type": "code",
        "colab": {}
      },
      "source": [
        "# Run the detector, single out the car-type objects with some baseline confidence\n",
        "# crop these objects out and save them with the convention '[i]_[image_name].jpg'\n",
        "\n",
        "def run_detector(detector, path, confidence=0.25):\n",
        "  \"\"\" \n",
        "  run_detector calls load_img() to decode a pillow image, runs our object \n",
        "  detector on the image and builds a dictionary with the results. With the \n",
        "  input confidence level, the car-type objects detected that fall above \n",
        "  that confidence are cropped from the image and saved to the local direct-\n",
        "  ory calling crop_boxes().\n",
        "  \n",
        "  Inputs: \n",
        "  detector: the chosen detector\n",
        "  path: path to image\n",
        "  confidence: a number between 0 and 1\n",
        "  \n",
        "  Outputs:\n",
        "  None\n",
        "  Saves images to local directory by calling crop_boxes\n",
        "  Displays image with annotations if draw_boxes() func uncommented\n",
        "  \"\"\"\n",
        "  img = load_img(path)\n",
        "\n",
        "  converted_img  = tf.image.convert_image_dtype(img, tf.float32)[tf.newaxis, ...]\n",
        "  start_time = time.time()\n",
        "  result = detector(converted_img)\n",
        "  end_time = time.time()\n",
        "\n",
        "  result = {key:value.numpy() for key,value in result.items()}\n",
        "\n",
        "  # Uncomment below to print number of objects identified and \n",
        "  # runtime for each image.\n",
        "  #print(\"Found %d objects.\" % len(result[\"detection_scores\"]))\n",
        "  #print(\"Inference time: \", end_time-start_time)\n",
        "  \n",
        "  confident_car_boxes = (result[\"detection_scores\"] > confidence) & (result[\"detection_class_entities\"] == str.encode('Car'))\n",
        "  car_entities = result[\"detection_class_entities\"][confident_car_boxes]\n",
        "  scores = result[\"detection_scores\"][confident_car_boxes]\n",
        "  box_coordinates = result[\"detection_boxes\"][confident_car_boxes]\n",
        "  \n",
        "  crop_boxes(img.numpy(), box_coordinates, scores, path)\n",
        "  \n",
        "  # Uncomment below to see the bounding boxes displayed on the scene\n",
        "  # MAKE SURE TO COMMENT THESE OUT WHEN RUNNING A BATCH OF IMAGES OR IT WILL TAKE TOO LONG!\n",
        "  #image_with_boxes = draw_boxes(img.numpy(), box_coordinates, car_entities, scores)\n",
        "  #display_image(image_with_boxes)"
      ],
      "execution_count": 0,
      "outputs": []
    },
    {
      "cell_type": "code",
      "metadata": {
        "id": "xv_yM0TEq2IS",
        "colab_type": "code",
        "colab": {}
      },
      "source": [
        "# Crop the car-type objects from the scene based on the bounding box established by the object detector\n",
        "\n",
        "def crop_boxes(image, boxes, scores, path, max_boxes=10, min_score=0.1):\n",
        "  \"\"\"\n",
        "  crops car-type objects detected which have scores over a given confidence threshold.\n",
        "  saves the cropped image(s) locally with the naming convention [i]_[img_name].jpg\n",
        "  \n",
        "  Inputs:\n",
        "  image: raw image as a numpy array\n",
        "  boxes: bounding box coordinates of car-type objects\n",
        "  scores: numpy arr of values between 0 and 1\n",
        "  max_boxes: int, default 10\n",
        "  min_score: float between 0 and 1, default 0.1\n",
        "  \n",
        "  Outputs:\n",
        "  None\n",
        "  Saves images to local directory\n",
        "  \"\"\"\n",
        "  image_name = path.split('.')[0]\n",
        "  im_height, im_width, _ = image.shape\n",
        "  image_pil = Image.fromarray(np.uint8(image)).convert(\"RGB\")\n",
        "  \n",
        "  for i in range(min(boxes.shape[0], max_boxes)):\n",
        "    if scores[i] >= min_score:\n",
        "      ymin, xmin, ymax, xmax = tuple(boxes[i])\n",
        "      ymin *= im_height\n",
        "      ymax *= im_height\n",
        "      xmin *= im_width\n",
        "      xmax *= im_width\n",
        "      \n",
        "      #if (ymax-ymin)*(xmax-xmin) > (im_height*im_width)*0.025:\n",
        "        #print('Saving vehicle number {}'.format(i))\n",
        "      crop_img = image_pil.crop((xmin, ymin, xmax, ymax))\n",
        "      crop_img.save(str(i) + '_' + image_name + \".jpg\", \"JPEG\")"
      ],
      "execution_count": 0,
      "outputs": []
    },
    {
      "cell_type": "markdown",
      "metadata": {
        "id": "kyF1PeJzb1EF",
        "colab_type": "text"
      },
      "source": [
        "### Apply Functions to Images"
      ]
    },
    {
      "cell_type": "code",
      "metadata": {
        "colab_type": "code",
        "id": "rubdr2JXfsa1",
        "colab": {}
      },
      "source": [
        "# Upload some scene images we want to get the cars from:\n",
        "\n",
        "from google.colab import files\n",
        "uploaded = files.upload()\n",
        "\n",
        "# Alternatively we can download from Google Drive by uncommenting below:\n",
        "\n",
        "# import gdown\n",
        "\n",
        "# url = 'https://drive.google.com/uc?id=1udfCO_bydFKQ1DqSDeXCZzCyXy4AZYYs'\n",
        "# output = 'image.jpg'\n",
        "# gdown.download(url, output, quiet=False)"
      ],
      "execution_count": 0,
      "outputs": []
    },
    {
      "cell_type": "code",
      "metadata": {
        "id": "wcWjUAgPpki_",
        "colab_type": "code",
        "colab": {}
      },
      "source": [
        "from os import listdir\n",
        "from os.path import isfile, join\n",
        "\n",
        "# Get a list of all the uploaded images\n",
        "images = [f for f in listdir('/content') if f[-3:] == 'jpg']"
      ],
      "execution_count": 0,
      "outputs": []
    },
    {
      "cell_type": "code",
      "metadata": {
        "id": "RWf9xEtRvluA",
        "colab_type": "code",
        "colab": {}
      },
      "source": [
        "# Preprocess the image we want to feed into the detector\n",
        "\n",
        "def resize_image(img, new_width=256, new_height=256,\n",
        "                              display=False):\n",
        "  pil_image = Image.open(img)\n",
        "  pil_image = ImageOps.fit(pil_image, (new_width, new_height), Image.ANTIALIAS)\n",
        "  pil_image_rgb = pil_image.convert(\"RGB\")\n",
        "  pil_image_rgb.save(img, format=\"JPEG\", quality=90)\n",
        "  if display:\n",
        "    display_image(pil_image)\n",
        "  return img"
      ],
      "execution_count": 0,
      "outputs": []
    },
    {
      "cell_type": "code",
      "metadata": {
        "id": "dDGn0C7Grgsg",
        "colab_type": "code",
        "colab": {}
      },
      "source": [
        "# Run the detector on each image we uploaded\n",
        "\n",
        "for image in images:\n",
        "  image_path = resize_image(image, 1280, 1024)\n",
        "  run_detector(detector, image_path)"
      ],
      "execution_count": 0,
      "outputs": []
    },
    {
      "cell_type": "code",
      "metadata": {
        "id": "_0s7i9l8CGSH",
        "colab_type": "code",
        "colab": {}
      },
      "source": [
        "# Get a list of all the cropped images\n",
        "images_cropped = [f for f in listdir('/content') if f[1] == '_']"
      ],
      "execution_count": 0,
      "outputs": []
    },
    {
      "cell_type": "code",
      "metadata": {
        "id": "7fWmcTwkaMMC",
        "colab_type": "code",
        "colab": {}
      },
      "source": [
        "# Display some of the cropped images\n",
        "\n",
        "# for crop in images_cropped[:3]:\n",
        "#   image_crop = load_img(crop)\n",
        "#   display_image(image_crop)"
      ],
      "execution_count": 0,
      "outputs": []
    },
    {
      "cell_type": "markdown",
      "metadata": {
        "id": "DbbkLm7tcGe9",
        "colab_type": "text"
      },
      "source": [
        "### Save Cropped Images"
      ]
    },
    {
      "cell_type": "code",
      "metadata": {
        "id": "IhrGZcF8vycS",
        "colab_type": "code",
        "colab": {}
      },
      "source": [
        "# zip the cropped images for easy download\n",
        "import zipfile\n",
        "zip_file = zipfile.ZipFile('temp.zip', 'w')\n",
        "for crop in images_cropped:\n",
        "  zip_file.write(crop, compress_type=zipfile.ZIP_DEFLATED)\n",
        "zip_file.close()"
      ],
      "execution_count": 0,
      "outputs": []
    },
    {
      "cell_type": "code",
      "metadata": {
        "id": "HqxIRvWYwC3V",
        "colab_type": "code",
        "colab": {}
      },
      "source": [
        "# Download the cropped images\n",
        "files.download('temp.zip')"
      ],
      "execution_count": 0,
      "outputs": []
    }
  ]
}